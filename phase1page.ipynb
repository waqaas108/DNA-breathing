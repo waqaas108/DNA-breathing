{
  "cells": [
    {
      "cell_type": "raw",
      "id": "4af92d80",
      "metadata": {},
      "source": [
        "---\n",
        "title: Phase 1\n",
        "---"
      ]
    },
    {
      "cell_type": "markdown",
      "id": "fdaf33b2",
      "metadata": {},
      "source": [
        "# CNN analysis of Chip-seq data\n",
        "\n",
        "## Overview on Chip-seq data\n",
        "\n",
        "### Data settings\n",
        "\n",
        "Chip-seq data obtained from\n",
        "\n",
        "Included cell lines\n"
      ]
    },
    {
      "cell_type": "code",
      "execution_count": null,
      "id": "362e1ab6",
      "metadata": {},
      "outputs": [],
      "source": [
        "import torch\n",
        "# open featmap.pt from /DNA-breathing/data\n",
        "featmap = torch.load('DNA-breathing/data/FeatMap.pt')\n",
        "featmap"
      ]
    },
    {
      "cell_type": "markdown",
      "id": "db789b2e",
      "metadata": {},
      "source": [
        "Included TFs\n"
      ]
    }
  ],
  "metadata": {
    "kernelspec": {
      "display_name": "Python 3",
      "language": "python",
      "name": "python3"
    },
    "language_info": {
      "name": "python",
      "version": "3.10.9"
    }
  },
  "nbformat": 4,
  "nbformat_minor": 5
}
